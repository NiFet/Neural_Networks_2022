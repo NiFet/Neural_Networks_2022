{
 "cells": [
  {
   "cell_type": "markdown",
   "metadata": {},
   "source": [
    "Решите простую задачу безусловной оптимизации в двумерном пространстве:  \n",
    "$$f(\\boldsymbol x) = -8x_1 - 16x_2 + x_1^2 + 4x_2^2$$\n",
    "используя два метода:\n",
    " - аналитически (функция квадратичная, выпуклая)\n",
    " - методом градиентного спуска, используя один из методов оптимизации torch.optim"
   ]
  },
  {
   "cell_type": "markdown",
   "metadata": {},
   "source": [
    "Аналитически:"
   ]
  },
  {
   "cell_type": "markdown",
   "metadata": {},
   "source": [
    "$$f(\\boldsymbol x) = -8x_1 - 16x_2 + x_1^2 + 4x_2^2 = (x_1 - 4)^2 + (2x_2 - 4)^2 - 32$$\n",
    "видно что минимум функции достигается в точке (4; 2) и равен -32"
   ]
  },
  {
   "cell_type": "code",
   "execution_count": 2,
   "metadata": {},
   "outputs": [],
   "source": [
    "import torch\n",
    "from matplotlib import pyplot as plt\n",
    "import numpy as np"
   ]
  },
  {
   "cell_type": "code",
   "execution_count": 3,
   "metadata": {},
   "outputs": [],
   "source": [
    "def f(x1, x2):\n",
    "    return (-8 * x1 - 16 * x2 + x1**2 + 4 * x2**2)"
   ]
  },
  {
   "cell_type": "code",
   "execution_count": 8,
   "metadata": {},
   "outputs": [],
   "source": [
    "xx1 = np.linspace(-10, 10, 100)\n",
    "xx2 = np.linspace(-10, 10, 100)"
   ]
  },
  {
   "cell_type": "markdown",
   "metadata": {},
   "source": [
    "Метод градиентного спуска"
   ]
  },
  {
   "cell_type": "code",
   "execution_count": 7,
   "metadata": {},
   "outputs": [
    {
     "name": "stdout",
     "output_type": "stream",
     "text": [
      "iteration 0, x1 4.0, x2 2.4000000953674316, f(x) -16.0\n",
      "iteration 1, x1 4.0, x2 2.0799999237060547, f(x) -31.360000610351562\n",
      "iteration 2, x1 4.0, x2 2.0160000324249268, f(x) -31.97439956665039\n",
      "iteration 3, x1 4.0, x2 2.003200054168701, f(x) -31.998971939086914\n",
      "iteration 4, x1 4.0, x2 2.0006399154663086, f(x) -31.99995994567871\n",
      "iteration 5, x1 4.0, x2 2.0001280307769775, f(x) -31.999998092651367\n",
      "iteration 6, x1 4.0, x2 2.000025510787964, f(x) -31.999996185302734\n",
      "iteration 7, x1 4.0, x2 2.000005006790161, f(x) -32.000003814697266\n",
      "iteration 8, x1 4.0, x2 2.0000009536743164, f(x) -31.999996185302734\n",
      "iteration 9, x1 4.0, x2 2.000000238418579, f(x) -32.0\n",
      "iteration 10, x1 4.0, x2 2.0, f(x) -31.999996185302734\n",
      "iteration 11, x1 4.0, x2 2.0, f(x) -32.0\n",
      "iteration 12, x1 4.0, x2 2.0, f(x) -32.0\n",
      "iteration 13, x1 4.0, x2 2.0, f(x) -32.0\n",
      "iteration 14, x1 4.0, x2 2.0, f(x) -32.0\n",
      "iteration 15, x1 4.0, x2 2.0, f(x) -32.0\n",
      "iteration 16, x1 4.0, x2 2.0, f(x) -32.0\n",
      "iteration 17, x1 4.0, x2 2.0, f(x) -32.0\n",
      "iteration 18, x1 4.0, x2 2.0, f(x) -32.0\n",
      "iteration 19, x1 4.0, x2 2.0, f(x) -32.0\n",
      "iteration 20, x1 4.0, x2 2.0, f(x) -32.0\n",
      "iteration 21, x1 4.0, x2 2.0, f(x) -32.0\n",
      "iteration 22, x1 4.0, x2 2.0, f(x) -32.0\n",
      "iteration 23, x1 4.0, x2 2.0, f(x) -32.0\n",
      "iteration 24, x1 4.0, x2 2.0, f(x) -32.0\n",
      "iteration 25, x1 4.0, x2 2.0, f(x) -32.0\n",
      "iteration 26, x1 4.0, x2 2.0, f(x) -32.0\n",
      "iteration 27, x1 4.0, x2 2.0, f(x) -32.0\n",
      "iteration 28, x1 4.0, x2 2.0, f(x) -32.0\n",
      "iteration 29, x1 4.0, x2 2.0, f(x) -32.0\n",
      "iteration 30, x1 4.0, x2 2.0, f(x) -32.0\n",
      "iteration 31, x1 4.0, x2 2.0, f(x) -32.0\n",
      "iteration 32, x1 4.0, x2 2.0, f(x) -32.0\n",
      "iteration 33, x1 4.0, x2 2.0, f(x) -32.0\n",
      "iteration 34, x1 4.0, x2 2.0, f(x) -32.0\n",
      "iteration 35, x1 4.0, x2 2.0, f(x) -32.0\n",
      "iteration 36, x1 4.0, x2 2.0, f(x) -32.0\n",
      "iteration 37, x1 4.0, x2 2.0, f(x) -32.0\n",
      "iteration 38, x1 4.0, x2 2.0, f(x) -32.0\n",
      "iteration 39, x1 4.0, x2 2.0, f(x) -32.0\n",
      "iteration 40, x1 4.0, x2 2.0, f(x) -32.0\n",
      "iteration 41, x1 4.0, x2 2.0, f(x) -32.0\n",
      "iteration 42, x1 4.0, x2 2.0, f(x) -32.0\n",
      "iteration 43, x1 4.0, x2 2.0, f(x) -32.0\n",
      "iteration 44, x1 4.0, x2 2.0, f(x) -32.0\n",
      "iteration 45, x1 4.0, x2 2.0, f(x) -32.0\n",
      "iteration 46, x1 4.0, x2 2.0, f(x) -32.0\n",
      "iteration 47, x1 4.0, x2 2.0, f(x) -32.0\n",
      "iteration 48, x1 4.0, x2 2.0, f(x) -32.0\n",
      "iteration 49, x1 4.0, x2 2.0, f(x) -32.0\n",
      "iteration 50, x1 4.0, x2 2.0, f(x) -32.0\n",
      "iteration 51, x1 4.0, x2 2.0, f(x) -32.0\n",
      "iteration 52, x1 4.0, x2 2.0, f(x) -32.0\n",
      "iteration 53, x1 4.0, x2 2.0, f(x) -32.0\n",
      "iteration 54, x1 4.0, x2 2.0, f(x) -32.0\n",
      "iteration 55, x1 4.0, x2 2.0, f(x) -32.0\n",
      "iteration 56, x1 4.0, x2 2.0, f(x) -32.0\n",
      "iteration 57, x1 4.0, x2 2.0, f(x) -32.0\n",
      "iteration 58, x1 4.0, x2 2.0, f(x) -32.0\n",
      "iteration 59, x1 4.0, x2 2.0, f(x) -32.0\n",
      "iteration 60, x1 4.0, x2 2.0, f(x) -32.0\n",
      "iteration 61, x1 4.0, x2 2.0, f(x) -32.0\n",
      "iteration 62, x1 4.0, x2 2.0, f(x) -32.0\n",
      "iteration 63, x1 4.0, x2 2.0, f(x) -32.0\n",
      "iteration 64, x1 4.0, x2 2.0, f(x) -32.0\n",
      "iteration 65, x1 4.0, x2 2.0, f(x) -32.0\n",
      "iteration 66, x1 4.0, x2 2.0, f(x) -32.0\n",
      "iteration 67, x1 4.0, x2 2.0, f(x) -32.0\n",
      "iteration 68, x1 4.0, x2 2.0, f(x) -32.0\n",
      "iteration 69, x1 4.0, x2 2.0, f(x) -32.0\n",
      "iteration 70, x1 4.0, x2 2.0, f(x) -32.0\n",
      "iteration 71, x1 4.0, x2 2.0, f(x) -32.0\n",
      "iteration 72, x1 4.0, x2 2.0, f(x) -32.0\n",
      "iteration 73, x1 4.0, x2 2.0, f(x) -32.0\n",
      "iteration 74, x1 4.0, x2 2.0, f(x) -32.0\n",
      "iteration 75, x1 4.0, x2 2.0, f(x) -32.0\n",
      "iteration 76, x1 4.0, x2 2.0, f(x) -32.0\n",
      "iteration 77, x1 4.0, x2 2.0, f(x) -32.0\n",
      "iteration 78, x1 4.0, x2 2.0, f(x) -32.0\n",
      "iteration 79, x1 4.0, x2 2.0, f(x) -32.0\n",
      "iteration 80, x1 4.0, x2 2.0, f(x) -32.0\n",
      "iteration 81, x1 4.0, x2 2.0, f(x) -32.0\n",
      "iteration 82, x1 4.0, x2 2.0, f(x) -32.0\n",
      "iteration 83, x1 4.0, x2 2.0, f(x) -32.0\n",
      "iteration 84, x1 4.0, x2 2.0, f(x) -32.0\n",
      "iteration 85, x1 4.0, x2 2.0, f(x) -32.0\n",
      "iteration 86, x1 4.0, x2 2.0, f(x) -32.0\n",
      "iteration 87, x1 4.0, x2 2.0, f(x) -32.0\n",
      "iteration 88, x1 4.0, x2 2.0, f(x) -32.0\n",
      "iteration 89, x1 4.0, x2 2.0, f(x) -32.0\n",
      "iteration 90, x1 4.0, x2 2.0, f(x) -32.0\n",
      "iteration 91, x1 4.0, x2 2.0, f(x) -32.0\n",
      "iteration 92, x1 4.0, x2 2.0, f(x) -32.0\n",
      "iteration 93, x1 4.0, x2 2.0, f(x) -32.0\n",
      "iteration 94, x1 4.0, x2 2.0, f(x) -32.0\n",
      "iteration 95, x1 4.0, x2 2.0, f(x) -32.0\n",
      "iteration 96, x1 4.0, x2 2.0, f(x) -32.0\n",
      "iteration 97, x1 4.0, x2 2.0, f(x) -32.0\n",
      "iteration 98, x1 4.0, x2 2.0, f(x) -32.0\n",
      "iteration 99, x1 4.0, x2 2.0, f(x) -32.0\n"
     ]
    }
   ],
   "source": [
    "def f(x1, x2):\n",
    "    return (-8 * x1 - 16 * x2 + x1**2 + 4 * x2**2)\n",
    "\n",
    "x1 = torch.tensor(4, dtype=torch.float32, requires_grad=True)\n",
    "x2 = torch.tensor(4, dtype=torch.float32, requires_grad=True)\n",
    "\n",
    "optimizer = torch.optim.SGD([x1, x2], lr = 0.1)  \n",
    "for i in range(100):\n",
    "    y = f(x1, x2)\n",
    "    optimizer.zero_grad()\n",
    "    y.backward()\n",
    "    optimizer.step()\n",
    "    print(f'iteration {i}, x1 {x1}, x2 {x2}, f(x) {y}')"
   ]
  },
  {
   "cell_type": "code",
   "execution_count": null,
   "metadata": {},
   "outputs": [],
   "source": []
  },
  {
   "cell_type": "code",
   "execution_count": null,
   "metadata": {},
   "outputs": [],
   "source": []
  },
  {
   "cell_type": "code",
   "execution_count": null,
   "metadata": {},
   "outputs": [],
   "source": []
  }
 ],
 "metadata": {
  "kernelspec": {
   "display_name": "Python 3.9.2 64-bit",
   "language": "python",
   "name": "python3"
  },
  "language_info": {
   "codemirror_mode": {
    "name": "ipython",
    "version": 3
   },
   "file_extension": ".py",
   "mimetype": "text/x-python",
   "name": "python",
   "nbconvert_exporter": "python",
   "pygments_lexer": "ipython3",
   "version": "3.9.2"
  },
  "vscode": {
   "interpreter": {
    "hash": "11938c6bc6919ae2720b4d5011047913343b08a43b18698fd82dedb0d4417594"
   }
  }
 },
 "nbformat": 4,
 "nbformat_minor": 2
}
